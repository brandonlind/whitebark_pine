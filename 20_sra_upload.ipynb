{
 "cells": [
  {
   "cell_type": "code",
   "execution_count": 0,
   "metadata": {
    "collapsed": false
   },
   "outputs": [],
   "source": [
    "import ftplib, os, socket\n",
    "from ipyparallel import Client\n",
    "from os import listdir as ls\n",
    "from os import path as op\n",
    "import shutil\n",
    "import gzip\n",
    "import pandas as pd\n",
    "from collections import OrderedDict"
   ]
  },
  {
   "cell_type": "markdown",
   "metadata": {},
   "source": [
    "# get the fastq files"
   ]
  },
  {
   "cell_type": "code",
   "execution_count": 0,
   "metadata": {
    "collapsed": false
   },
   "outputs": [],
   "source": [
    "DIR = '/home/lindb/wbp/concatenated'\n",
    "files = [op.join(DIR,f) for f in ls(DIR) if f.endswith('compiled.fastq')]\n",
    "len(files)"
   ]
  },
  {
   "cell_type": "code",
   "execution_count": 0,
   "metadata": {
    "collapsed": false
   },
   "outputs": [],
   "source": [
    "sorted(files)"
   ]
  },
  {
   "cell_type": "markdown",
   "metadata": {},
   "source": [
    "# get engines"
   ]
  },
  {
   "cell_type": "code",
   "execution_count": 0,
   "metadata": {
    "collapsed": true
   },
   "outputs": [],
   "source": [
    "rc = Client(profile=\"xmn\")\n",
    "dview = rc[:]\n",
    "lview = rc.load_balanced_view()\n",
    "#small = rc.load_balanced_view(targets=range(0,10))\n",
    "len(lview)#, len(small)"
   ]
  },
  {
   "cell_type": "code",
   "execution_count": 0,
   "metadata": {
    "collapsed": false
   },
   "outputs": [],
   "source": [
    "with dview.sync_imports():\n",
    "    import os\n",
    "    from os import path as op\n",
    "    from os import listdir as ls\n",
    "    import ftplib\n",
    "    import socket\n",
    "    import gzip\n",
    "    import shutil"
   ]
  },
  {
   "cell_type": "code",
   "execution_count": 0,
   "metadata": {
    "collapsed": true
   },
   "outputs": [],
   "source": [
    "hosts = dview.apply(socket.gethostname)"
   ]
  },
  {
   "cell_type": "code",
   "execution_count": 0,
   "metadata": {
    "collapsed": true
   },
   "outputs": [],
   "source": [
    "host_dict = {}\n",
    "for i, host in enumerate(hosts.get()):\n",
    "    if not host in host_dict:\n",
    "        host_dict[host] = []\n",
    "    host_dict[host].append(i)\n",
    "host_dict"
   ]
  },
  {
   "cell_type": "code",
   "execution_count": 0,
   "metadata": {
    "collapsed": true
   },
   "outputs": [],
   "source": [
    "single_host = rc.load_balanced_view(targets=[v[0] for k,v in host_dict.items()])"
   ]
  },
  {
   "cell_type": "code",
   "execution_count": 0,
   "metadata": {
    "collapsed": false
   },
   "outputs": [],
   "source": [
    "len(single_host)"
   ]
  },
  {
   "cell_type": "markdown",
   "metadata": {},
   "source": [
    "# copy original files new a new folder"
   ]
  },
  {
   "cell_type": "code",
   "execution_count": 0,
   "metadata": {
    "collapsed": true
   },
   "outputs": [],
   "source": [
    "def cp(f):\n",
    "    from os import path as op\n",
    "    from os import listdir as ls\n",
    "    import os\n",
    "    import shutil\n",
    "    DIR = op.dirname(f)\n",
    "    gDIR = op.join(DIR,'sra')\n",
    "    dst = op.join(gDIR, op.basename(f))\n",
    "    shutil.copy(f,dst)\n",
    "    return dst"
   ]
  },
  {
   "cell_type": "code",
   "execution_count": 0,
   "metadata": {
    "collapsed": true
   },
   "outputs": [],
   "source": [
    "dview['upload_file'] = download_file\n",
    "dview['connect'] = connect\n",
    "dview['cp'] = cp"
   ]
  },
  {
   "cell_type": "code",
   "execution_count": 0,
   "metadata": {
    "collapsed": false,
    "scrolled": true
   },
   "outputs": [],
   "source": [
    "jobs = []\n",
    "for f in files:\n",
    "    jobs.append(lview.apply_async(cp,f))"
   ]
  },
  {
   "cell_type": "code",
   "execution_count": 0,
   "metadata": {
    "collapsed": false
   },
   "outputs": [],
   "source": [
    "count = 0\n",
    "for j in jobs:\n",
    "    if j.ready():\n",
    "        count += 1\n",
    "count"
   ]
  },
  {
   "cell_type": "code",
   "execution_count": 0,
   "metadata": {
    "collapsed": false
   },
   "outputs": [],
   "source": [
    "DIR = '/home/lindb/wbp/concatenated/sra/'\n",
    "gzfiles = [op.join(DIR,F) for F in ls(DIR) if F.endswith('fastq')]\n",
    "len(gzfiles)"
   ]
  },
  {
   "cell_type": "markdown",
   "metadata": {},
   "source": [
    "# gzip the copied files"
   ]
  },
  {
   "cell_type": "code",
   "execution_count": 0,
   "metadata": {
    "collapsed": true
   },
   "outputs": [],
   "source": [
    "def gzip_file(f):\n",
    "    from os import path as op\n",
    "    from os import listdir as ls\n",
    "    import os\n",
    "    DIR = op.dirname(f)\n",
    "    dst = op.join(DIR,\"%s.gz\" % op.basename(f))\n",
    "    !gzip -c $f > $dst\n",
    "    return dst\n",
    "dview['gzip_file'] = gzip_file"
   ]
  },
  {
   "cell_type": "code",
   "execution_count": 0,
   "metadata": {
    "collapsed": true
   },
   "outputs": [],
   "source": [
    "#gzip the files\n",
    "jobs = []\n",
    "for f in gzfiles:\n",
    "    jobs.append(lview.apply_async(gzip_file,f))"
   ]
  },
  {
   "cell_type": "code",
   "execution_count": 0,
   "metadata": {
    "collapsed": false
   },
   "outputs": [],
   "source": [
    "count = 0\n",
    "for j in jobs:\n",
    "    if j.ready():\n",
    "        count += 1\n",
    "count"
   ]
  },
  {
   "cell_type": "code",
   "execution_count": 0,
   "metadata": {
    "collapsed": false
   },
   "outputs": [],
   "source": [
    "count = 0\n",
    "for j in jobs:\n",
    "    if j.ready():\n",
    "        count +=1\n",
    "count"
   ]
  },
  {
   "cell_type": "code",
   "execution_count": 0,
   "metadata": {
    "collapsed": false
   },
   "outputs": [],
   "source": [
    "DIR = '/home/lindb/wbp/concatenated/sra/'\n",
    "gzfiles = [op.join(DIR,F) for F in ls(DIR) if F.endswith('gz')]\n",
    "len(gzfiles)"
   ]
  },
  {
   "cell_type": "markdown",
   "metadata": {},
   "source": [
    "# ftp upload the files"
   ]
  },
  {
   "cell_type": "code",
   "execution_count": 0,
   "metadata": {
    "collapsed": true
   },
   "outputs": [],
   "source": [
    "def connect():\n",
    "    ftp = ftplib.FTP('ftp-private.ncbi.nlm.nih.gov','subftp','w4pYB9VQ')\n",
    "    ftp.set_pasv(True)\n",
    "    return ftp\n",
    "\n",
    "def upload_file(f):\n",
    "    print \"uploading on %s on %s\" % (f,socket.gethostname())\n",
    "    from os import path as op\n",
    "    import os\n",
    "    ftp = connect()\n",
    "    ftp.cwd('uploads/lindb@mymail.vcu.edu_S7FPFoO2/new_folder')\n",
    "    filE = open(f,'rb')\n",
    "    ftp.storbinary(\"STOR %s\" % op.basename(f),filE)\n",
    "    filE.close()\n",
    "    ftp.quit()\n",
    "    return op.basename(f)\n",
    "\n",
    "dview['upload_file'] = upload_file\n",
    "dview['connect'] = connect"
   ]
  },
  {
   "cell_type": "code",
   "execution_count": 0,
   "metadata": {
    "collapsed": false
   },
   "outputs": [],
   "source": [
    "DIR = '/home/lindb/wbp/concatenated/sra/'\n",
    "gzfiles = [op.join(DIR,f) for f in ls(DIR) if f.endswith('gz')]\n",
    "len(gzfiles)"
   ]
  },
  {
   "cell_type": "code",
   "execution_count": 0,
   "metadata": {
    "collapsed": true
   },
   "outputs": [],
   "source": [
    "jobs = []\n",
    "for f in gzfiles:\n",
    "    jobs.append(lview.apply_async(upload_file,f))"
   ]
  },
  {
   "cell_type": "code",
   "execution_count": 0,
   "metadata": {
    "collapsed": false
   },
   "outputs": [],
   "source": [
    "count= 0\n",
    "for j in jobs:\n",
    "    if j.ready():\n",
    "        count += 1\n",
    "count"
   ]
  },
  {
   "cell_type": "markdown",
   "metadata": {},
   "source": [
    "# prepare sra docs"
   ]
  },
  {
   "cell_type": "code",
   "execution_count": 0,
   "metadata": {
    "collapsed": true
   },
   "outputs": [],
   "source": [
    "bioproject_id = '' #PRJNA377565\n",
    "biosample_accession = 'SAMN06462359'\n",
    "#library_ID\n",
    "title = 'Local adaptation of Pinus albicaulis in the Lake Tahoe Basin'\n",
    "library_strategy = 'OTHER'\n",
    "library_source = 'GENOMIC'\n",
    "library_selection = 'Reduced Representation'\n",
    "library_layout = 'single'\n",
    "platform = 'ILLUMINA'\n",
    "instrument_model = 'Illumina HiSeq 2500'\n",
    "design_description = 'OTHER'\n",
    "filetype = 'fastq'\n",
    "#filename\n",
    "filename2 = ''\n",
    "filename3 = ''\n",
    "assembly = ''"
   ]
  },
  {
   "cell_type": "code",
   "execution_count": 0,
   "metadata": {
    "collapsed": false
   },
   "outputs": [],
   "source": [
    "DIR = '/home/lindb/wbp/concatenated/sra/'\n",
    "gzfiles = sorted([op.join(DIR,f) for f in ls(DIR) if f.endswith('gz')])\n",
    "data = []\n",
    "for g in gzfiles:\n",
    "    library_ID = op.basename(g).split(\".\")[0]\n",
    "    filename = op.join('uploads/lindb@mymail.vcu.edu_S7FPFoO2/new_folder',op.basename(g))\n",
    "    Dict = OrderedDict()\n",
    "    Dict['bioproject_accession']=bioproject_id\n",
    "    Dict['biosample_accession']=biosample_accession\n",
    "    Dict['library_ID']=library_ID\n",
    "    Dict['title']=title\n",
    "    Dict['library_strategy']= library_strategy\n",
    "    Dict['library_source'] = library_source\n",
    "    Dict['library_selection'] = library_selection\n",
    "    Dict['library_layout'] = library_layout\n",
    "    Dict['platform'] = platform\n",
    "    Dict['instrument_model']=instrument_model\n",
    "    Dict['design_description']=design_description\n",
    "    Dict['filetype']=filetype\n",
    "    Dict['filename']=filename\n",
    "    Dict['filename2']=filename2\n",
    "    Dict['filename3']=filename3\n",
    "    Dict['assembly']=assembly\n",
    "    data.append(Dict)\n",
    "df = pd.DataFrame(data,columns=data[0].keys())"
   ]
  },
  {
   "cell_type": "code",
   "execution_count": 0,
   "metadata": {
    "collapsed": false
   },
   "outputs": [],
   "source": [
    "df.head()"
   ]
  },
  {
   "cell_type": "code",
   "execution_count": 0,
   "metadata": {
    "collapsed": false
   },
   "outputs": [],
   "source": [
    "df.loc[0,'filename']"
   ]
  },
  {
   "cell_type": "code",
   "execution_count": 0,
   "metadata": {
    "collapsed": true
   },
   "outputs": [],
   "source": [
    "df.to_csv('/home/lindb/wbp/sra_metadata.tsv',header=True,index=False,sep='\\t')"
   ]
  },
  {
   "cell_type": "code",
   "execution_count": 0,
   "metadata": {
    "collapsed": true
   },
   "outputs": [],
   "source": []
  },
  {
   "cell_type": "code",
   "execution_count": 0,
   "metadata": {
    "collapsed": true
   },
   "outputs": [],
   "source": []
  },
  {
   "cell_type": "code",
   "execution_count": 0,
   "metadata": {
    "collapsed": true
   },
   "outputs": [],
   "source": []
  },
  {
   "cell_type": "code",
   "execution_count": 0,
   "metadata": {
    "collapsed": true
   },
   "outputs": [],
   "source": []
  },
  {
   "cell_type": "code",
   "execution_count": 0,
   "metadata": {
    "collapsed": true
   },
   "outputs": [],
   "source": []
  },
  {
   "cell_type": "code",
   "execution_count": 0,
   "metadata": {
    "collapsed": true
   },
   "outputs": [],
   "source": []
  },
  {
   "cell_type": "code",
   "execution_count": 0,
   "metadata": {
    "collapsed": true
   },
   "outputs": [],
   "source": []
  },
  {
   "cell_type": "code",
   "execution_count": 0,
   "metadata": {
    "collapsed": true
   },
   "outputs": [],
   "source": []
  },
  {
   "cell_type": "code",
   "execution_count": 0,
   "metadata": {
    "collapsed": true
   },
   "outputs": [],
   "source": []
  },
  {
   "cell_type": "code",
   "execution_count": 0,
   "metadata": {
    "collapsed": true
   },
   "outputs": [],
   "source": []
  }
 ],
 "metadata": {
  "kernelspec": {
   "display_name": "Python 2",
   "language": "python",
   "name": "python2"
  },
  "language_info": {
   "codemirror_mode": {
    "name": "ipython",
    "version": 2
   },
   "file_extension": ".py",
   "mimetype": "text/x-python",
   "name": "python",
   "nbconvert_exporter": "python",
   "pygments_lexer": "ipython2",
   "version": "2.7.11"
  }
 },
 "nbformat": 4,
 "nbformat_minor": 0
}
